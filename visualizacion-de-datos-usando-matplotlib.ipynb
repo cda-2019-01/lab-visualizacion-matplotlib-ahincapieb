{
 "cells": [
  {
   "cell_type": "markdown",
   "metadata": {},
   "source": [
    "LAB: Visualización de datos usando Matplotlib\n",
    "=========================================="
   ]
  },
  {
   "cell_type": "code",
   "execution_count": 54,
   "metadata": {},
   "outputs": [],
   "source": [
    "import numpy as np\n",
    "import matplotlib.pyplot as plt\n",
    "import matplotlib as mpl\n",
    "import pandas as pd\n",
    "%matplotlib inline"
   ]
  },
  {
   "cell_type": "code",
   "execution_count": 35,
   "metadata": {},
   "outputs": [
    {
     "ename": "SyntaxError",
     "evalue": "invalid syntax (<ipython-input-35-1baf4dd994b0>, line 1)",
     "output_type": "error",
     "traceback": [
      "\u001b[0;36m  File \u001b[0;32m\"<ipython-input-35-1baf4dd994b0>\"\u001b[0;36m, line \u001b[0;32m1\u001b[0m\n\u001b[0;31m    ../\u001b[0m\n\u001b[0m    ^\u001b[0m\n\u001b[0;31mSyntaxError\u001b[0m\u001b[0;31m:\u001b[0m invalid syntax\n"
     ]
    }
   ],
   "source": [
    "../Taller_6_matplotlib/CapacitacionPlataformasTaller_6_matplotlib"
   ]
  },
  {
   "cell_type": "code",
   "execution_count": 46,
   "metadata": {},
   "outputs": [
    {
     "name": "stdout",
     "output_type": "stream",
     "text": [
      "\u001b[0m\u001b[01;34mImages\u001b[0m/                     lab-visualizacion-matplotlib-lurestrepo-master.zip\r\n",
      "indicadores-mundiales1.csv  README.md\r\n",
      "indicadores-mundiales.csv   visualizacion-de-datos-usando-matplotlib.ipynb\r\n"
     ]
    }
   ],
   "source": [
    "ls"
   ]
  },
  {
   "cell_type": "code",
   "execution_count": null,
   "metadata": {
    "scrolled": true
   },
   "outputs": [],
   "source": [
    "#df = pd.read_csv('notebooks/CapacitacionPlataformas/Taller_6_matplotlib/indicadores-mundiales.csv',sep=',',encoding='latin-1')"
   ]
  },
  {
   "cell_type": "code",
   "execution_count": 85,
   "metadata": {},
   "outputs": [],
   "source": [
    "df = pd.read_csv('indicadores-mundiales.csv',sep=',',encoding='latin-1')"
   ]
  },
  {
   "cell_type": "code",
   "execution_count": 56,
   "metadata": {},
   "outputs": [
    {
     "data": {
      "text/plain": [
       "Index(['Ano', 'Dias para iniciar un negocio', 'Emisiones de CO2',\n",
       "       'Esperanza de vida (mujeres)', 'Esperanza de vida (varones)',\n",
       "       'Facilidad para hacer negocios', 'Gasto en salud ( del PIB)',\n",
       "       'Gasto en salud (per capita)', 'Horas preparar los impuestos',\n",
       "       'Interes de prestamos', 'PIB', 'Pais', 'Poblacion 0-14',\n",
       "       'Poblacion 15-64', 'Poblacion 65+', 'Poblacion total',\n",
       "       'Poblacion urbana', 'Region', 'Tasa de mortalidad infantil',\n",
       "       'Tasa de natalidad', 'Tasa tributaria empresarial', 'Turismo emisor',\n",
       "       'Turismo receptivo', 'Uso de Internet', 'Uso de energia',\n",
       "       'Uso de telefonos celulares'],\n",
       "      dtype='object')"
      ]
     },
     "execution_count": 56,
     "metadata": {},
     "output_type": "execute_result"
    }
   ],
   "source": [
    "df.columns"
   ]
  },
  {
   "cell_type": "code",
   "execution_count": 95,
   "metadata": {},
   "outputs": [
    {
     "data": {
      "text/html": [
       "<div>\n",
       "<style scoped>\n",
       "    .dataframe tbody tr th:only-of-type {\n",
       "        vertical-align: middle;\n",
       "    }\n",
       "\n",
       "    .dataframe tbody tr th {\n",
       "        vertical-align: top;\n",
       "    }\n",
       "\n",
       "    .dataframe thead th {\n",
       "        text-align: right;\n",
       "    }\n",
       "</style>\n",
       "<table border=\"1\" class=\"dataframe\">\n",
       "  <thead>\n",
       "    <tr style=\"text-align: right;\">\n",
       "      <th></th>\n",
       "      <th>Poblacion 0-14</th>\n",
       "      <th>Poblacion 15-64</th>\n",
       "      <th>Poblacion 65+</th>\n",
       "    </tr>\n",
       "    <tr>\n",
       "      <th>Region</th>\n",
       "      <th></th>\n",
       "      <th></th>\n",
       "      <th></th>\n",
       "    </tr>\n",
       "  </thead>\n",
       "  <tbody>\n",
       "    <tr>\n",
       "      <th>Africa</th>\n",
       "      <td>38.203087</td>\n",
       "      <td>25.699171</td>\n",
       "      <td>13.993860</td>\n",
       "    </tr>\n",
       "    <tr>\n",
       "      <th>Asia</th>\n",
       "      <td>18.245626</td>\n",
       "      <td>18.970625</td>\n",
       "      <td>15.548734</td>\n",
       "    </tr>\n",
       "    <tr>\n",
       "      <th>Europa</th>\n",
       "      <td>12.968096</td>\n",
       "      <td>24.592980</td>\n",
       "      <td>44.366846</td>\n",
       "    </tr>\n",
       "    <tr>\n",
       "      <th>Las Americas</th>\n",
       "      <td>18.440823</td>\n",
       "      <td>19.385113</td>\n",
       "      <td>18.773599</td>\n",
       "    </tr>\n",
       "    <tr>\n",
       "      <th>Oceania</th>\n",
       "      <td>6.122813</td>\n",
       "      <td>5.571144</td>\n",
       "      <td>4.336147</td>\n",
       "    </tr>\n",
       "    <tr>\n",
       "      <th>Oriente Medio</th>\n",
       "      <td>6.019554</td>\n",
       "      <td>5.780967</td>\n",
       "      <td>2.980814</td>\n",
       "    </tr>\n",
       "  </tbody>\n",
       "</table>\n",
       "</div>"
      ],
      "text/plain": [
       "               Poblacion 0-14  Poblacion 15-64  Poblacion 65+\n",
       "Region                                                       \n",
       "Africa              38.203087        25.699171      13.993860\n",
       "Asia                18.245626        18.970625      15.548734\n",
       "Europa              12.968096        24.592980      44.366846\n",
       "Las Americas        18.440823        19.385113      18.773599\n",
       "Oceania              6.122813         5.571144       4.336147\n",
       "Oriente Medio        6.019554         5.780967       2.980814"
      ]
     },
     "execution_count": 95,
     "metadata": {},
     "output_type": "execute_result"
    }
   ],
   "source": [
    "data = df.groupby('Region').sum()[['Poblacion 0-14', 'Poblacion 15-64', 'Poblacion 65+']]\n",
    "data2=data.apply(lambda x: x/x.sum()*100)\n",
    "data2=data2.rename(index={'africa': 'Africa'})\n",
    "data2=data2.sort_values(by=['Region'])\n",
    "data2"
   ]
  },
  {
   "cell_type": "code",
   "execution_count": null,
   "metadata": {},
   "outputs": [],
   "source": []
  },
  {
   "cell_type": "markdown",
   "metadata": {},
   "source": [
    "## Punto 1"
   ]
  },
  {
   "cell_type": "markdown",
   "metadata": {},
   "source": [
    "Construya una gráfica similar a la siguiente usando el archivo `indicadores-mundiales.csv`. Se grafica la suma del porcetaje de la población por regiones.\n",
    "\n",
    "![act2](Images/suma-pob-region-edades-2.png)\n"
   ]
  },
  {
   "cell_type": "code",
   "execution_count": 253,
   "metadata": {
    "scrolled": true
   },
   "outputs": [
    {
     "ename": "SyntaxError",
     "evalue": "invalid syntax (<ipython-input-253-7104a4cff8ca>, line 2)",
     "output_type": "error",
     "traceback": [
      "\u001b[0;36m  File \u001b[0;32m\"<ipython-input-253-7104a4cff8ca>\"\u001b[0;36m, line \u001b[0;32m2\u001b[0m\n\u001b[0;31m    for index, colname\u001b[0m\n\u001b[0m                      ^\u001b[0m\n\u001b[0;31mSyntaxError\u001b[0m\u001b[0;31m:\u001b[0m invalid syntax\n"
     ]
    }
   ],
   "source": [
    "plt.figure()\n",
    "for index, colname\n",
    "x= data2.Region\n"
   ]
  },
  {
   "cell_type": "markdown",
   "metadata": {},
   "source": [
    "## Punto 2\n",
    "\n",
    "Construya una gráfica similar a la siguiente usando el archivo `indicadores-mundiales.csv`. Se grafica la suma del porcetaje de la población por regiones.\n",
    "\n",
    "![act2](Images/suma-pob-region-edades-3.png)\n"
   ]
  },
  {
   "cell_type": "code",
   "execution_count": null,
   "metadata": {
    "scrolled": true
   },
   "outputs": [],
   "source": [
    "\n"
   ]
  },
  {
   "cell_type": "code",
   "execution_count": 246,
   "metadata": {},
   "outputs": [
    {
     "name": "stdout",
     "output_type": "stream",
     "text": [
      "(0, 'Poblacion 0-14')\n",
      "(1, 'Poblacion 15-64')\n",
      "(2, 'Poblacion 65+')\n"
     ]
    }
   ],
   "source": [
    "for i in enumerate(data.columns):\n",
    "    print(i)"
   ]
  },
  {
   "cell_type": "code",
   "execution_count": 96,
   "metadata": {},
   "outputs": [
    {
     "data": {
      "text/html": [
       "<div>\n",
       "<style scoped>\n",
       "    .dataframe tbody tr th:only-of-type {\n",
       "        vertical-align: middle;\n",
       "    }\n",
       "\n",
       "    .dataframe tbody tr th {\n",
       "        vertical-align: top;\n",
       "    }\n",
       "\n",
       "    .dataframe thead th {\n",
       "        text-align: right;\n",
       "    }\n",
       "</style>\n",
       "<table border=\"1\" class=\"dataframe\">\n",
       "  <thead>\n",
       "    <tr style=\"text-align: right;\">\n",
       "      <th>Region</th>\n",
       "      <th>Africa</th>\n",
       "      <th>Asia</th>\n",
       "      <th>Europa</th>\n",
       "      <th>Las Americas</th>\n",
       "      <th>Oceania</th>\n",
       "      <th>Oriente Medio</th>\n",
       "    </tr>\n",
       "  </thead>\n",
       "  <tbody>\n",
       "    <tr>\n",
       "      <th>Poblacion 0-14</th>\n",
       "      <td>38.203087</td>\n",
       "      <td>18.245626</td>\n",
       "      <td>12.968096</td>\n",
       "      <td>18.440823</td>\n",
       "      <td>6.122813</td>\n",
       "      <td>6.019554</td>\n",
       "    </tr>\n",
       "    <tr>\n",
       "      <th>Poblacion 15-64</th>\n",
       "      <td>25.699171</td>\n",
       "      <td>18.970625</td>\n",
       "      <td>24.592980</td>\n",
       "      <td>19.385113</td>\n",
       "      <td>5.571144</td>\n",
       "      <td>5.780967</td>\n",
       "    </tr>\n",
       "    <tr>\n",
       "      <th>Poblacion 65+</th>\n",
       "      <td>13.993860</td>\n",
       "      <td>15.548734</td>\n",
       "      <td>44.366846</td>\n",
       "      <td>18.773599</td>\n",
       "      <td>4.336147</td>\n",
       "      <td>2.980814</td>\n",
       "    </tr>\n",
       "  </tbody>\n",
       "</table>\n",
       "</div>"
      ],
      "text/plain": [
       "Region              Africa       Asia     Europa  Las Americas   Oceania  \\\n",
       "Poblacion 0-14   38.203087  18.245626  12.968096     18.440823  6.122813   \n",
       "Poblacion 15-64  25.699171  18.970625  24.592980     19.385113  5.571144   \n",
       "Poblacion 65+    13.993860  15.548734  44.366846     18.773599  4.336147   \n",
       "\n",
       "Region           Oriente Medio  \n",
       "Poblacion 0-14        6.019554  \n",
       "Poblacion 15-64       5.780967  \n",
       "Poblacion 65+         2.980814  "
      ]
     },
     "execution_count": 96,
     "metadata": {},
     "output_type": "execute_result"
    }
   ],
   "source": [
    "data2_t = data2.transpose()\n",
    "data2_t"
   ]
  },
  {
   "cell_type": "code",
   "execution_count": 108,
   "metadata": {
    "scrolled": true
   },
   "outputs": [
    {
     "ename": "IndentationError",
     "evalue": "unexpected indent (<ipython-input-108-9956ccabf91c>, line 12)",
     "output_type": "error",
     "traceback": [
      "\u001b[0;36m  File \u001b[0;32m\"<ipython-input-108-9956ccabf91c>\"\u001b[0;36m, line \u001b[0;32m12\u001b[0m\n\u001b[0;31m    plt.ylabel('Valor')\u001b[0m\n\u001b[0m    ^\u001b[0m\n\u001b[0;31mIndentationError\u001b[0m\u001b[0;31m:\u001b[0m unexpected indent\n"
     ]
    }
   ],
   "source": [
    "plt.style.use('default')\n",
    "plt.figure(figsize=(20, 6))\n",
    "fig, axs = plt.subplots(1, 6, sharex='col', sharey='row', figsize=(16, 6));\n",
    "plt.subplots_adjust(wspace=0.02, hspace=0.1)\n",
    "for index, colname in enumerate(data2_t.columns):\n",
    "    axs[index].barh(list(data2_t.index), data2_t[colname])\n",
    "    axs[index].set_xlabel(colname);\n",
    "    plt.subplot(1, 6, index + 1)\n",
    "    plt.bar(range(3), data2_t[colname])\n",
    "    plt.xticks(range(3), list(data2_t.index), rotation='vertical')\n",
    "    plt.title(colname)\n",
    "     plt.ylabel('Valor')\n",
    "    axs[index].barh(list(data2_t.index), data2_t[colname])\n",
    "    axs[index].set_xlabel(colname);"
   ]
  },
  {
   "cell_type": "code",
   "execution_count": 113,
   "metadata": {},
   "outputs": [
    {
     "data": {
      "image/png": "[encoded data removed]",
      "text/plain": [
       "<Figure size 1080x720 with 6 Axes>"
      ]
     },
     "metadata": {
      "needs_background": "light"
     },
     "output_type": "display_data"
    }
   ],
   "source": [
    "fig, axs = plt.subplots(1, 6, sharex='col', sharey='row', figsize=(15, 10));\n",
    "plt.subplots_adjust(wspace = 0.00, hspace=0.05)\n",
    "for index, colname in enumerate(data2_t.columns):\n",
    "    data2_t[colname].plot.bar(ax=axs[index])\n",
    "    axs[index].set_title(colname)\n",
    "    plt.ylabel('Valor');"
   ]
  },
  {
   "cell_type": "markdown",
   "metadata": {},
   "source": [
    "## Punto 3\n",
    "Construya una gráfica similar a la siguiente usando el archivo `indicadores-mundiales.csv`. Se grafica la suma del porcetaje de la población por regiones.\n",
    "\n",
    "![act3](Images/suma-pob-region-edades-4.png)"
   ]
  },
  {
   "cell_type": "code",
   "execution_count": 175,
   "metadata": {},
   "outputs": [
    {
     "data": {
      "image/png": "[encoded data removed]",
      "text/plain": [
       "<Figure size 1000x800 with 3 Axes>"
      ]
     },
     "metadata": {},
     "output_type": "display_data"
    }
   ],
   "source": [
    "plt.style.use('default')\n",
    "fig, axs = plt.subplots(3, 1, sharex='col', sharey='row', figsize=(10, 8));\n",
    "plt.subplots_adjust(wspace = 0.01, hspace=0.00)\n",
    "for index, colname in enumerate(data2.columns):\n",
    "    data2[colname].plot.bar(ax=axs[index])\n",
    "    plt.xticks(range(6), list(data2.index), rotation='horizontal')\n",
    "    axs[index].set_ylabel('Valor')\n",
    "    #axs[index].set_title(colname, loc='left')\n",
    "    axs[index].legend(loc='best', bbox_to_anchor=(1.45, 0.8), shadow=False, ncol=1)\n",
    "    #plt.ylabel('Valor');"
   ]
  },
  {
   "cell_type": "markdown",
   "metadata": {},
   "source": [
    "## Punto 4\n",
    "\n",
    "Construya una gráfica similar a la siguiente usando el archivo `indicadores-mundiales.csv`. Promedio de gastos per capita por año.\n",
    "\n",
    "![act4](Images/prom-gastos-salud-per-capita-ano.png)"
   ]
  },
  {
   "cell_type": "code",
   "execution_count": null,
   "metadata": {},
   "outputs": [],
   "source": []
  },
  {
   "cell_type": "markdown",
   "metadata": {},
   "source": [
    "## Punto 5\n",
    "\n",
    "Construya una gráfica similar a la siguiente usando el archivo `indicadores-mundiales.csv`. Promedio de gastos per capita por año.\n",
    "\n",
    "![act5](Images/prom-region-edades-ano.png)"
   ]
  },
  {
   "cell_type": "code",
   "execution_count": null,
   "metadata": {},
   "outputs": [],
   "source": []
  },
  {
   "cell_type": "markdown",
   "metadata": {},
   "source": [
    "---"
   ]
  }
 ],
 "metadata": {
  "kernel_info": {
   "name": "python3"
  },
  "kernelspec": {
   "display_name": "Python 3",
   "language": "python",
   "name": "python3"
  },
  "language_info": {
   "codemirror_mode": {
    "name": "ipython",
    "version": 3
   },
   "file_extension": ".py",
   "mimetype": "text/x-python",
   "name": "python",
   "nbconvert_exporter": "python",
   "pygments_lexer": "ipython3",
   "version": "3.7.1"
  },
  "nteract": {
   "version": "0.7.1"
  },
  "varInspector": {
   "cols": {
    "lenName": 16,
    "lenType": 16,
    "lenVar": 40
   },
   "kernels_config": {
    "python": {
     "delete_cmd_postfix": "",
     "delete_cmd_prefix": "del ",
     "library": "var_list.py",
     "varRefreshCmd": "print(var_dic_list())"
    },
    "r": {
     "delete_cmd_postfix": ") ",
     "delete_cmd_prefix": "rm(",
     "library": "var_list.r",
     "varRefreshCmd": "cat(var_dic_list()) "
    }
   },
   "types_to_exclude": [
    "module",
    "function",
    "builtin_function_or_method",
    "instance",
    "_Feature"
   ],
   "window_display": false
  }
 },
 "nbformat": 4,
 "nbformat_minor": 2
}
